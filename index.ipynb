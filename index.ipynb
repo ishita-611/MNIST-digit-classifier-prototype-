{
 "cells": [
  {
   "cell_type": "code",
   "execution_count": 4,
   "id": "84109733",
   "metadata": {},
   "outputs": [
    {
     "name": "stdout",
     "output_type": "stream",
     "text": [
      "Epoch 1/5\n",
      "1688/1688 [==============================] - 17s 10ms/step - loss: 0.1386 - accuracy: 0.9580 - val_loss: 0.0506 - val_accuracy: 0.9860\n",
      "Epoch 2/5\n",
      "1688/1688 [==============================] - 16s 9ms/step - loss: 0.0448 - accuracy: 0.9861 - val_loss: 0.0379 - val_accuracy: 0.9887\n",
      "Epoch 3/5\n",
      "1688/1688 [==============================] - 17s 10ms/step - loss: 0.0304 - accuracy: 0.9904 - val_loss: 0.0361 - val_accuracy: 0.9892\n",
      "Epoch 4/5\n",
      "1688/1688 [==============================] - 16s 10ms/step - loss: 0.0235 - accuracy: 0.9926 - val_loss: 0.0306 - val_accuracy: 0.9918\n",
      "Epoch 5/5\n",
      "1688/1688 [==============================] - 16s 9ms/step - loss: 0.0159 - accuracy: 0.9946 - val_loss: 0.0368 - val_accuracy: 0.9910\n",
      "313/313 - 1s - loss: 0.0334 - accuracy: 0.9902 - 993ms/epoch - 3ms/step\n",
      "Test Accuracy: 0.9901999831199646\n"
     ]
    }
   ],
   "source": [
    "import tensorflow as tf\n",
    "from tensorflow.keras import layers, models\n",
    "\n",
    "# Load dataset\n",
    "(X_train, y_train), (X_test, y_test) = tf.keras.datasets.mnist.load_data()\n",
    "\n",
    "# Normalize\n",
    "X_train = X_train.astype(\"float32\") / 255.0\n",
    "X_test = X_test.astype(\"float32\") / 255.0\n",
    "\n",
    "# Reshape for CNN (batch, 28, 28, 1)\n",
    "X_train = X_train.reshape(-1, 28, 28, 1)\n",
    "X_test = X_test.reshape(-1, 28, 28, 1)\n",
    "\n",
    "# Build CNN model\n",
    "model = models.Sequential([\n",
    "    layers.Conv2D(32, (3,3), activation='relu', input_shape=(28,28,1)),\n",
    "    layers.MaxPooling2D((2,2)),\n",
    "    layers.Conv2D(64, (3,3), activation='relu'),\n",
    "    layers.MaxPooling2D((2,2)),\n",
    "    layers.Flatten(),\n",
    "    layers.Dense(128, activation='relu'),\n",
    "    layers.Dense(10, activation='softmax')\n",
    "])\n",
    "\n",
    "# Compile\n",
    "model.compile(optimizer=\"adam\",\n",
    "              loss=\"sparse_categorical_crossentropy\",\n",
    "              metrics=[\"accuracy\"])\n",
    "\n",
    "# Train\n",
    "model.fit(X_train, y_train, epochs=5, validation_split=0.1)\n",
    "\n",
    "# Evaluate\n",
    "loss, acc = model.evaluate(X_test, y_test, verbose=2)\n",
    "print(\"Test Accuracy:\", acc)\n",
    "\n",
    "# Save\n",
    "model.save(\"mnist_cnn.h5\")\n"
   ]
  },
  {
   "cell_type": "code",
   "execution_count": null,
   "id": "a479613b",
   "metadata": {},
   "outputs": [
    {
     "name": "stdout",
     "output_type": "stream",
     "text": [
      "* Running on local URL:  http://127.0.0.1:7862\n",
      "\n",
      "Could not create share link. Please check your internet connection or our status page: https://status.gradio.app.\n"
     ]
    },
    {
     "data": {
      "text/html": [
       "<div><iframe src=\"http://127.0.0.1:7862/\" width=\"100%\" height=\"500\" allow=\"autoplay; camera; microphone; clipboard-read; clipboard-write;\" frameborder=\"0\" allowfullscreen></iframe></div>"
      ],
      "text/plain": [
       "<IPython.core.display.HTML object>"
      ]
     },
     "metadata": {},
     "output_type": "display_data"
    },
    {
     "data": {
      "text/plain": []
     },
     "execution_count": 5,
     "metadata": {},
     "output_type": "execute_result"
    },
    {
     "name": "stdout",
     "output_type": "stream",
     "text": [
      "1/1 [==============================] - 0s 186ms/step\n",
      "1/1 [==============================] - 0s 64ms/step\n",
      "1/1 [==============================] - 0s 53ms/step\n",
      "1/1 [==============================] - 0s 36ms/step\n",
      "1/1 [==============================] - 0s 67ms/step\n",
      "1/1 [==============================] - 0s 46ms/step\n",
      "1/1 [==============================] - 0s 63ms/step\n",
      "1/1 [==============================] - 0s 79ms/step\n",
      "1/1 [==============================] - 0s 46ms/step\n",
      "1/1 [==============================] - 0s 73ms/step\n",
      "1/1 [==============================] - 0s 50ms/step\n",
      "1/1 [==============================] - 0s 69ms/step\n",
      "1/1 [==============================] - 0s 67ms/step\n",
      "1/1 [==============================] - 0s 29ms/step\n",
      "1/1 [==============================] - 0s 55ms/step\n",
      "1/1 [==============================] - 0s 69ms/step\n",
      "1/1 [==============================] - 0s 62ms/step\n",
      "1/1 [==============================] - 0s 60ms/step\n",
      "1/1 [==============================] - 0s 38ms/step\n",
      "1/1 [==============================] - 0s 447ms/step\n",
      "1/1 [==============================] - 0s 148ms/step\n",
      "1/1 [==============================] - 0s 394ms/step\n"
     ]
    }
   ],
   "source": [
    "import numpy as np\n",
    "import gradio as gr\n",
    "from PIL import Image\n",
    "\n",
    "def predict_digit(img):\n",
    "    #Convert to grayscale\n",
    "    img = Image.fromarray(img).convert(\"L\")\n",
    "    \n",
    "    #Invert colors \n",
    "    img = np.invert(np.array(img))\n",
    "    \n",
    "    #Resize to 28x28\n",
    "    img = Image.fromarray(img).resize((28, 28))\n",
    "    \n",
    "    # Normalize and add batch dimension\n",
    "    img = np.array(img).astype(\"float32\") / 255.0\n",
    "    img = np.expand_dims(img, axis=0)\n",
    "    \n",
    "    #Predict\n",
    "    prediction = model.predict(img)\n",
    "    return {str(i): float(prediction[0][i]) for i in range(10)}\n",
    "\n",
    "demo = gr.Interface(\n",
    "    fn=predict_digit,\n",
    "    inputs=gr.Image(type=\"numpy\"),\n",
    "    outputs=gr.Label(num_top_classes=3),\n",
    "    title=\"MNIST Digit Classifier\",\n",
    "    description=\"Upload the image of any digit from (0-9), and let the model predict it.\"\n",
    ")\n",
    "\n",
    "demo.launch(share=True)"
   ]
  }
 ],
 "metadata": {
  "kernelspec": {
   "display_name": "reco",
   "language": "python",
   "name": "python3"
  },
  "language_info": {
   "codemirror_mode": {
    "name": "ipython",
    "version": 3
   },
   "file_extension": ".py",
   "mimetype": "text/x-python",
   "name": "python",
   "nbconvert_exporter": "python",
   "pygments_lexer": "ipython3",
   "version": "3.10.13"
  }
 },
 "nbformat": 4,
 "nbformat_minor": 5
}
